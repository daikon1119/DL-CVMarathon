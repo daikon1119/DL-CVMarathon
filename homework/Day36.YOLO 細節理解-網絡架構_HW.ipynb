{
 "cells": [
  {
   "cell_type": "markdown",
   "metadata": {
    "colab_type": "text",
    "id": "3ZGGBbr9IaLL"
   },
   "source": [
    "### Day36.YOLO 細節理解-網絡架構      \n",
    "用實際的影像，嘗試自己搭建一個 1乘1和 3乘 3的模型    \n",
    "看通過 1乘1和 3乘3 卷積層後會有甚麼變化?     \n",
    "大家可以自己嘗試著搭建不同層數後，觀察圖形特徵的變化     "
   ]
  },
  {
   "cell_type": "code",
   "execution_count": null,
   "metadata": {
    "colab": {},
    "colab_type": "code",
    "id": "ELdw2rj-IaLP"
   },
   "outputs": [],
   "source": [
    "#宣告\n",
    "import cv2\n",
    "import matplotlib.patches as patches\n",
    "import numpy as np\n",
    "import matplotlib.pyplot as plt\n",
    "%matplotlib inline\n",
    "\n",
    "from keras import backend as K\n",
    "from keras.models import Sequential \n",
    "from keras.layers.core import Activation\n",
    "from keras.layers.convolutional import Conv2D, MaxPooling2D\n"
   ]
  },
  {
   "cell_type": "code",
   "execution_count": null,
   "metadata": {
    "colab": {
     "base_uri": "https://localhost:8080/",
     "height": 641
    },
    "colab_type": "code",
    "executionInfo": {
     "elapsed": 4010,
     "status": "ok",
     "timestamp": 1578202880675,
     "user": {
      "displayName": "Mora chen",
      "photoUrl": "https://lh3.googleusercontent.com/a-/AAuE7mB40f7sDArbZ5_DYq02nNcnLD0Ryaf7AhsASSQeLQ=s64",
      "userId": "03171203089166907199"
     },
     "user_tz": -480
    },
    "id": "E9TikrRCIaLV",
    "outputId": "c56e4b38-1798-44bc-b3bb-871640e05440"
   },
   "outputs": [],
   "source": [
    "##讀入照片\n",
    "# 下載圖片範例，如果已經下載過就可以註解掉\n",
    "#!wget https://github.com/pjreddie/darknet/blob/master/data/dog.jpg?raw=true -O dog.jpg\n",
    "image=cv2.imread('dog.jpg')\n",
    "#ax.imshow(image)\n",
    "\n",
    "def show(img):\n",
    "    plt.imshow(cv2.cvtColor(img, cv2.COLOR_BGR2RGB)) # plt.imshow 預設圖片是 rgb 的\n",
    "    plt.show()\n",
    "show(image)"
   ]
  },
  {
   "cell_type": "code",
   "execution_count": null,
   "metadata": {
    "colab": {
     "base_uri": "https://localhost:8080/",
     "height": 210
    },
    "colab_type": "code",
    "executionInfo": {
     "elapsed": 3987,
     "status": "ok",
     "timestamp": 1578202880678,
     "user": {
      "displayName": "Mora chen",
      "photoUrl": "https://lh3.googleusercontent.com/a-/AAuE7mB40f7sDArbZ5_DYq02nNcnLD0Ryaf7AhsASSQeLQ=s64",
      "userId": "03171203089166907199"
     },
     "user_tz": -480
    },
    "id": "Ejf3cesIIaLb",
    "outputId": "f1a68073-71ed-4db5-c720-5fabce85e194"
   },
   "outputs": [],
   "source": [
    "# create model\n",
    "#Sequential 是一個多層模型\n",
    "#透過 add() 函式將一層一層 layer 加上去\n",
    "#data_format='channels_last' 尺寸为 (batch, rows, cols, channels)\n",
    "#搭建一個 3 個 1*1 的 filters\n",
    "model=Sequential()\n",
    "model.add(Conv2D(3, (1,1), padding=\"same\", data_format='channels_last', activation='relu', input_shape=image.shape))\n",
    "\n",
    "#作業: 接續搭建一個 4 個 3*3 的 filters \n",
    "model.add(Conv2D(4, (3,3), padding=\"same\", data_format='channels_last', activation='relu', input_shape=image.shape))\n",
    "\n",
    "print(model.summary())\n",
    "#權重都是亂數值"
   ]
  },
  {
   "cell_type": "code",
   "execution_count": null,
   "metadata": {
    "colab": {
     "base_uri": "https://localhost:8080/",
     "height": 34
    },
    "colab_type": "code",
    "executionInfo": {
     "elapsed": 3972,
     "status": "ok",
     "timestamp": 1578202880679,
     "user": {
      "displayName": "Mora chen",
      "photoUrl": "https://lh3.googleusercontent.com/a-/AAuE7mB40f7sDArbZ5_DYq02nNcnLD0Ryaf7AhsASSQeLQ=s64",
      "userId": "03171203089166907199"
     },
     "user_tz": -480
    },
    "id": "C1lGHfa7IaLe",
    "outputId": "5d815368-9f37-425e-cbac-cf2f3e6617af"
   },
   "outputs": [],
   "source": [
    "# keras 在讀取檔案實是以 batch 的方式一次讀取多張，\n",
    "#但我們這裡只需要判讀一張，\n",
    "#所以透過 expand_dims() 函式來多擴張一個維度\n",
    "image_batch=np.expand_dims(image,axis=0)\n",
    "print (image.shape)\n",
    "print(image_batch.shape)"
   ]
  },
  {
   "cell_type": "code",
   "execution_count": 50,
   "metadata": {
    "colab": {
     "base_uri": "https://localhost:8080/",
     "height": 321
    },
    "colab_type": "code",
    "executionInfo": {
     "elapsed": 3961,
     "status": "ok",
     "timestamp": 1578202880681,
     "user": {
      "displayName": "Mora chen",
      "photoUrl": "https://lh3.googleusercontent.com/a-/AAuE7mB40f7sDArbZ5_DYq02nNcnLD0Ryaf7AhsASSQeLQ=s64",
      "userId": "03171203089166907199"
     },
     "user_tz": -480
    },
    "id": "zNR_7oM6IaLi",
    "outputId": "551f9a95-eacd-4f15-e910-a37d6f83d911"
   },
   "outputs": [
    {
     "name": "stderr",
     "output_type": "stream",
     "text": [
      "Clipping input data to the valid range for imshow with RGB data ([0..1] for floats or [0..255] for integers).\n"
     ]
    },
    {
     "name": "stdout",
     "output_type": "stream",
     "text": [
      "(576, 768, 3)\n"
     ]
    },
    {
     "data": {
      "text/plain": [
       "<matplotlib.image.AxesImage at 0x7f74117c4198>"
      ]
     },
     "execution_count": 50,
     "metadata": {
      "tags": []
     },
     "output_type": "execute_result"
    },
    {
     "data": {
      "image/png": "[encoded data removed]",
      "text/plain": [
       "<Figure size 432x288 with 1 Axes>"
      ]
     },
     "metadata": {
      "tags": []
     },
     "output_type": "display_data"
    }
   ],
   "source": [
    "#model.predict() 函式，得到回傳便是 feature map\n",
    "image_conv=model.predict(image_batch)\n",
    "img=np.squeeze(image_conv,axis=0)\n",
    "print(img.shape)\n",
    "plt.imshow(img)"
   ]
  },
  {
   "cell_type": "markdown",
   "metadata": {
    "colab_type": "text",
    "id": "0fbYPvcRIaLk"
   },
   "source": [
    "#### 由於權重都是亂數值，所以每次跑出來的結果不同\n",
    "大家可以自己嘗試著搭建不同層數後，觀察圖形特徵的變化"
   ]
  }
 ],
 "metadata": {
  "colab": {
   "collapsed_sections": [],
   "name": "Day36.YOLO 細節理解-網絡架構_HW.ipynb",
   "provenance": []
  },
  "kernelspec": {
   "display_name": "Python 3",
   "language": "python",
   "name": "python3"
  },
  "language_info": {
   "codemirror_mode": {
    "name": "ipython",
    "version": 3
   },
   "file_extension": ".py",
   "mimetype": "text/x-python",
   "name": "python",
   "nbconvert_exporter": "python",
   "pygments_lexer": "ipython3",
   "version": "3.6.1"
  }
 },
 "nbformat": 4,
 "nbformat_minor": 1
}
